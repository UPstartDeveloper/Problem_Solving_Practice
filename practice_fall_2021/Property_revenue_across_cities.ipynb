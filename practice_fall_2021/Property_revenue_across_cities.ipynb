{
  "nbformat": 4,
  "nbformat_minor": 0,
  "metadata": {
    "colab": {
      "name": "Property_revenue_across_cities.ipynb",
      "provenance": [],
      "collapsed_sections": [],
      "authorship_tag": "ABX9TyMN6Nv8A1VSJ5g7uPeyqUZM",
      "include_colab_link": true
    },
    "kernelspec": {
      "name": "python3",
      "display_name": "Python 3"
    },
    "language_info": {
      "name": "python"
    }
  },
  "cells": [
    {
      "cell_type": "markdown",
      "metadata": {
        "id": "view-in-github",
        "colab_type": "text"
      },
      "source": [
        "<a href=\"https://colab.research.google.com/github/UPstartDeveloper/Problem_Solving_Practice/blob/master/practice_fall_2021/Property_revenue_across_cities.ipynb\" target=\"_parent\"><img src=\"https://colab.research.google.com/assets/colab-badge.svg\" alt=\"Open In Colab\"/></a>"
      ]
    },
    {
      "cell_type": "markdown",
      "metadata": {
        "id": "lvgAEuHLgOV2"
      },
      "source": [
        "\n",
        "# InterviewQs\n",
        "## Property revenue across cities\n",
        "\n",
        "\n",
        "Hi, \n",
        "Suppose you work for Airbnb as an analyst. A team has come to you asking which cities generate the highest revenue for the company in 2017. Using the schemas below, write a SQL query to answer this question.\n",
        "\n",
        "    \n",
        "You have a table with property location information and another table with stay information. The schema of the tables are below:\n",
        "\n",
        "    \n",
        "Table: `property_location_info`\n",
        "    \n",
        "Column Name\tData Type\tDescription\n",
        "property_id\tinteger\tID of the property location\n",
        "country\tstring\tcountry code of the property location\n",
        "city_name\tstring\tname of city **(note there can be multiple cities with the same name)**\n",
        "\n",
        "subregion_name\tstring\tprovence, state, or subregion name\n",
        "address\tstring\taddress of property location\n",
        "\n",
        "Table: `stays_info`\n",
        "\n",
        "Column Name\tData Type\tDescription\n",
        "guest_id\tinteger\tID of guest\n",
        "property_id\tinteger\tID of the property location\n",
        "host_id\tinteger\tID of the host managing the property\n",
        "revenue\tinteger\tcost of stay for guest in USD\n",
        "date_start\tstring\tstart day of stay, format is \"YYYY-mm-dd\"\n",
        "date_end\tstring\tend day of stay, format is \"YYYY-mm-dd\"\n",
        "stay_length\tinteger\tnumber of days for the stay\n",
        "airbnb_revenue\tinteger\trevenue that Airbnb collected on stay"
      ]
    },
    {
      "cell_type": "code",
      "metadata": {
        "id": "RmHAFczHf4mm"
      },
      "source": [
        "import pandas as pd\n",
        "import datetime as dt"
      ],
      "execution_count": 21,
      "outputs": []
    },
    {
      "cell_type": "code",
      "metadata": {
        "id": "S7DnQWi9iOhe"
      },
      "source": [
        "# just testing out how dt values work\n",
        "test_date = dt.date(2019, 5, 2)"
      ],
      "execution_count": 22,
      "outputs": []
    },
    {
      "cell_type": "code",
      "metadata": {
        "colab": {
          "base_uri": "https://localhost:8080/",
          "height": 35
        },
        "id": "J2cY6OuyijmH",
        "outputId": "957ff0e1-2e24-440d-820a-dd7461f86bad"
      },
      "source": [
        "str(test_date)"
      ],
      "execution_count": 23,
      "outputs": [
        {
          "output_type": "execute_result",
          "data": {
            "application/vnd.google.colaboratory.intrinsic+json": {
              "type": "string"
            },
            "text/plain": [
              "'2019-05-02'"
            ]
          },
          "metadata": {},
          "execution_count": 23
        }
      ]
    },
    {
      "cell_type": "code",
      "metadata": {
        "id": "7JTeAw9Li4lB"
      },
      "source": [
        "# making up date values\n",
        "dates = [\n",
        "  dt.date(2019, 5, 2),\n",
        "  dt.date(2017, 5, 2),\n",
        "  dt.date(2017, 5, 3),\n",
        "  dt.date(2017, 5, 4),\n",
        "]"
      ],
      "execution_count": 24,
      "outputs": []
    },
    {
      "cell_type": "code",
      "metadata": {
        "id": "EE0oqJgLgMzB"
      },
      "source": [
        "properties_df = pd.DataFrame({\n",
        "    'property_ID': [10, 20, 30, 40, 50],  # int: ID of the property location\n",
        "    'city_name': ['Baltimore', 'Denver', 'LA', 'NYC', 'SF'],  # str: city name,\n",
        "    'subregion_name': ['MD', 'CO', 'CA', 'NY', 'CA']  # str: provence, state, or subregion name\n",
        "})"
      ],
      "execution_count": 25,
      "outputs": []
    },
    {
      "cell_type": "code",
      "metadata": {
        "colab": {
          "base_uri": "https://localhost:8080/",
          "height": 204
        },
        "id": "s40kB3sxjatB",
        "outputId": "a0e68424-3905-49b3-8fc3-fcdcf77c81f9"
      },
      "source": [
        "properties_df.head()"
      ],
      "execution_count": 26,
      "outputs": [
        {
          "output_type": "execute_result",
          "data": {
            "text/html": [
              "<div>\n",
              "<style scoped>\n",
              "    .dataframe tbody tr th:only-of-type {\n",
              "        vertical-align: middle;\n",
              "    }\n",
              "\n",
              "    .dataframe tbody tr th {\n",
              "        vertical-align: top;\n",
              "    }\n",
              "\n",
              "    .dataframe thead th {\n",
              "        text-align: right;\n",
              "    }\n",
              "</style>\n",
              "<table border=\"1\" class=\"dataframe\">\n",
              "  <thead>\n",
              "    <tr style=\"text-align: right;\">\n",
              "      <th></th>\n",
              "      <th>property_ID</th>\n",
              "      <th>city_name</th>\n",
              "      <th>subregion_name</th>\n",
              "    </tr>\n",
              "  </thead>\n",
              "  <tbody>\n",
              "    <tr>\n",
              "      <th>0</th>\n",
              "      <td>10</td>\n",
              "      <td>Baltimore</td>\n",
              "      <td>MD</td>\n",
              "    </tr>\n",
              "    <tr>\n",
              "      <th>1</th>\n",
              "      <td>20</td>\n",
              "      <td>Denver</td>\n",
              "      <td>CO</td>\n",
              "    </tr>\n",
              "    <tr>\n",
              "      <th>2</th>\n",
              "      <td>30</td>\n",
              "      <td>LA</td>\n",
              "      <td>CA</td>\n",
              "    </tr>\n",
              "    <tr>\n",
              "      <th>3</th>\n",
              "      <td>40</td>\n",
              "      <td>NYC</td>\n",
              "      <td>NY</td>\n",
              "    </tr>\n",
              "    <tr>\n",
              "      <th>4</th>\n",
              "      <td>50</td>\n",
              "      <td>SF</td>\n",
              "      <td>CA</td>\n",
              "    </tr>\n",
              "  </tbody>\n",
              "</table>\n",
              "</div>"
            ],
            "text/plain": [
              "   property_ID  city_name subregion_name\n",
              "0           10  Baltimore             MD\n",
              "1           20     Denver             CO\n",
              "2           30         LA             CA\n",
              "3           40        NYC             NY\n",
              "4           50         SF             CA"
            ]
          },
          "metadata": {},
          "execution_count": 26
        }
      ]
    },
    {
      "cell_type": "code",
      "metadata": {
        "id": "mbooBr8Dgiok"
      },
      "source": [
        "stays_df = pd.DataFrame({\n",
        "    'property_ID': [10, 20, 10, 50],  # int: ID of the property location\n",
        "    'date_end': [str(d) for d in dates], # str: end day of stay, format is \"YYYY-mm-dd\"\n",
        "    'airbnb_revenue': [45, 59, 64, 1000]  # int: revenue that Airbnb collected on stay\n",
        "})"
      ],
      "execution_count": 27,
      "outputs": []
    },
    {
      "cell_type": "code",
      "metadata": {
        "colab": {
          "base_uri": "https://localhost:8080/",
          "height": 173
        },
        "id": "Wf9mcRTghAgC",
        "outputId": "842086ea-09b3-4a34-f783-ed44708ad442"
      },
      "source": [
        "stays_df.head()"
      ],
      "execution_count": 28,
      "outputs": [
        {
          "output_type": "execute_result",
          "data": {
            "text/html": [
              "<div>\n",
              "<style scoped>\n",
              "    .dataframe tbody tr th:only-of-type {\n",
              "        vertical-align: middle;\n",
              "    }\n",
              "\n",
              "    .dataframe tbody tr th {\n",
              "        vertical-align: top;\n",
              "    }\n",
              "\n",
              "    .dataframe thead th {\n",
              "        text-align: right;\n",
              "    }\n",
              "</style>\n",
              "<table border=\"1\" class=\"dataframe\">\n",
              "  <thead>\n",
              "    <tr style=\"text-align: right;\">\n",
              "      <th></th>\n",
              "      <th>property_ID</th>\n",
              "      <th>date_end</th>\n",
              "      <th>airbnb_revenue</th>\n",
              "    </tr>\n",
              "  </thead>\n",
              "  <tbody>\n",
              "    <tr>\n",
              "      <th>0</th>\n",
              "      <td>10</td>\n",
              "      <td>2019-05-02</td>\n",
              "      <td>45</td>\n",
              "    </tr>\n",
              "    <tr>\n",
              "      <th>1</th>\n",
              "      <td>20</td>\n",
              "      <td>2017-05-02</td>\n",
              "      <td>59</td>\n",
              "    </tr>\n",
              "    <tr>\n",
              "      <th>2</th>\n",
              "      <td>10</td>\n",
              "      <td>2017-05-03</td>\n",
              "      <td>64</td>\n",
              "    </tr>\n",
              "    <tr>\n",
              "      <th>3</th>\n",
              "      <td>50</td>\n",
              "      <td>2017-05-04</td>\n",
              "      <td>1000</td>\n",
              "    </tr>\n",
              "  </tbody>\n",
              "</table>\n",
              "</div>"
            ],
            "text/plain": [
              "   property_ID    date_end  airbnb_revenue\n",
              "0           10  2019-05-02              45\n",
              "1           20  2017-05-02              59\n",
              "2           10  2017-05-03              64\n",
              "3           50  2017-05-04            1000"
            ]
          },
          "metadata": {},
          "execution_count": 28
        }
      ]
    },
    {
      "cell_type": "code",
      "metadata": {
        "colab": {
          "base_uri": "https://localhost:8080/",
          "height": 142
        },
        "id": "AYW6o9QKmq6n",
        "outputId": "e255d043-fdc2-4257-c920-9eb5b6f45360"
      },
      "source": [
        "# s = stays_df['date_end'].astype(str)\n",
        "# s.str.startswith('2017')\n",
        "stays_df[stays_df['date_end'].str.contains(\"2017\")]"
      ],
      "execution_count": 29,
      "outputs": [
        {
          "output_type": "execute_result",
          "data": {
            "text/html": [
              "<div>\n",
              "<style scoped>\n",
              "    .dataframe tbody tr th:only-of-type {\n",
              "        vertical-align: middle;\n",
              "    }\n",
              "\n",
              "    .dataframe tbody tr th {\n",
              "        vertical-align: top;\n",
              "    }\n",
              "\n",
              "    .dataframe thead th {\n",
              "        text-align: right;\n",
              "    }\n",
              "</style>\n",
              "<table border=\"1\" class=\"dataframe\">\n",
              "  <thead>\n",
              "    <tr style=\"text-align: right;\">\n",
              "      <th></th>\n",
              "      <th>property_ID</th>\n",
              "      <th>date_end</th>\n",
              "      <th>airbnb_revenue</th>\n",
              "    </tr>\n",
              "  </thead>\n",
              "  <tbody>\n",
              "    <tr>\n",
              "      <th>1</th>\n",
              "      <td>20</td>\n",
              "      <td>2017-05-02</td>\n",
              "      <td>59</td>\n",
              "    </tr>\n",
              "    <tr>\n",
              "      <th>2</th>\n",
              "      <td>10</td>\n",
              "      <td>2017-05-03</td>\n",
              "      <td>64</td>\n",
              "    </tr>\n",
              "    <tr>\n",
              "      <th>3</th>\n",
              "      <td>50</td>\n",
              "      <td>2017-05-04</td>\n",
              "      <td>1000</td>\n",
              "    </tr>\n",
              "  </tbody>\n",
              "</table>\n",
              "</div>"
            ],
            "text/plain": [
              "   property_ID    date_end  airbnb_revenue\n",
              "1           20  2017-05-02              59\n",
              "2           10  2017-05-03              64\n",
              "3           50  2017-05-04            1000"
            ]
          },
          "metadata": {},
          "execution_count": 29
        }
      ]
    },
    {
      "cell_type": "code",
      "metadata": {
        "id": "weNSeeiFjeSQ"
      },
      "source": [
        "def sort_cities_by_revenue(properties_df, stays_df, year='2017'):\n",
        "  # A: get all the stays per property in 2017\n",
        "  stays_2017 = stays_df[stays_df['date_end'].str.startswith(\"2017\")]\n",
        "  # B: aggregate the total revenue AirBnb got from the properties\n",
        "  property_sums = stays_2017.groupby('property_ID', as_index=False).sum()\n",
        "  # C: find out the unique cities\n",
        "  unique_cities = properties_df.drop_duplicates(['city_name', 'subregion_name'])\n",
        "  unique_cities['revenue_2017'] = 0\n",
        "  # D: aggregate its total revenue, based on each unqiue property\n",
        "  uc, ps = unique_cities, property_sums\n",
        "  for prop_id in property_sums['property_ID'].values:\n",
        "    city_revenue = ps[ps['property_ID'] == prop_id]['airbnb_revenue']\n",
        "    uc.loc[uc['property_ID'] == prop_id, 'revenue_2017'] = int(city_revenue)\n",
        "  # E: sort the cities from greatest to least\n",
        "  return uc.sort_values('revenue_2017', ascending=0)['city_name'].values"
      ],
      "execution_count": 90,
      "outputs": []
    },
    {
      "cell_type": "code",
      "metadata": {
        "colab": {
          "base_uri": "https://localhost:8080/"
        },
        "id": "s1orgBytksS5",
        "outputId": "2758ab1d-d8f4-4e2d-da3e-5b65769e4848"
      },
      "source": [
        "sort_cities_by_revenue(properties_df, stays_df)"
      ],
      "execution_count": 91,
      "outputs": [
        {
          "output_type": "execute_result",
          "data": {
            "text/plain": [
              "array(['SF', 'Baltimore', 'Denver', 'LA', 'NYC'], dtype=object)"
            ]
          },
          "metadata": {},
          "execution_count": 91
        }
      ]
    }
  ]
}