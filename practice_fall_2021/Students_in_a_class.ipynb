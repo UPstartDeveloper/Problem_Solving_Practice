{
  "nbformat": 4,
  "nbformat_minor": 0,
  "metadata": {
    "colab": {
      "name": "Students_in_a_class.ipynb",
      "provenance": [],
      "authorship_tag": "ABX9TyOPmLsUGb8a9xY2uZphxIit",
      "include_colab_link": true
    },
    "kernelspec": {
      "name": "python3",
      "display_name": "Python 3"
    },
    "language_info": {
      "name": "python"
    }
  },
  "cells": [
    {
      "cell_type": "markdown",
      "metadata": {
        "id": "view-in-github",
        "colab_type": "text"
      },
      "source": [
        "<a href=\"https://colab.research.google.com/github/UPstartDeveloper/Problem_Solving_Practice/blob/master/practice_fall_2021/Students_in_a_class.ipynb\" target=\"_parent\"><img src=\"https://colab.research.google.com/assets/colab-badge.svg\" alt=\"Open In Colab\"/></a>"
      ]
    },
    {
      "cell_type": "markdown",
      "metadata": {
        "id": "Knp79tmWsc8Y"
      },
      "source": [
        "\n",
        "# InterviewQs\n",
        "\n",
        "## Students in a class\n",
        "\n",
        "In a class of 120 students numbered 1 to 120, all even numbered students opt for Physics, those whose numbers are divisible by 5 opt for Chemistry and those whose numbers are divisible by 7 opt for Math. How many opt for none of the three subjects?"
      ]
    },
    {
      "cell_type": "code",
      "metadata": {
        "id": "ZBXMJAyYscaX"
      },
      "source": [
        "def students_in_a_class(total_number, classes=set()):\n",
        "  \"\"\"Return a dict of each student # --> [classes]\"\"\"\n",
        "  # A: mapping the divisors to their classes\n",
        "  class_conditions = {\n",
        "      2: 'P',\n",
        "      5: 'C',\n",
        "      7: 'M'\n",
        "  }\n",
        "  # B: figure out the classes each student has\n",
        "  student_classes = dict()\n",
        "  for student_id in range(1, total_number + 1):\n",
        "    # classes for one particular student\n",
        "    registered_classes = rc = set()\n",
        "    for condition in class_conditions:\n",
        "      if student_id % condition == 0:\n",
        "        rc.add(class_conditions[condition])\n",
        "    # add the student to the dict\n",
        "    student_classes[student_id] = rc\n",
        "  # C: find out the # of students in the specified class\n",
        "  student_count = 0\n",
        "  for student_id in range(1, total_number + 1):\n",
        "    if classes == student_classes[student_id]:\n",
        "      student_count += 1\n",
        "  return student_count\n",
        "\n",
        "  \n"
      ],
      "execution_count": 5,
      "outputs": []
    },
    {
      "cell_type": "code",
      "metadata": {
        "colab": {
          "base_uri": "https://localhost:8080/"
        },
        "id": "kgFg_86wwHQj",
        "outputId": "077f3add-86e8-449b-bf04-0918602631e3"
      },
      "source": [
        "students_in_a_class(120)"
      ],
      "execution_count": 7,
      "outputs": [
        {
          "output_type": "execute_result",
          "data": {
            "text/plain": [
              "41"
            ]
          },
          "metadata": {},
          "execution_count": 7
        }
      ]
    },
    {
      "cell_type": "code",
      "metadata": {
        "id": "NEVGRZKjwfV-"
      },
      "source": [
        ""
      ],
      "execution_count": null,
      "outputs": []
    }
  ]
}