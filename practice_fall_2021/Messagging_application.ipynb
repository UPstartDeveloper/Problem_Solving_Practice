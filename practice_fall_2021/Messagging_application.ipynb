{
  "nbformat": 4,
  "nbformat_minor": 0,
  "metadata": {
    "colab": {
      "name": "Messagging_application.ipynb",
      "provenance": [],
      "authorship_tag": "ABX9TyOCdAD4jO7P+CIuVRp7JVS1",
      "include_colab_link": true
    },
    "kernelspec": {
      "name": "python3",
      "display_name": "Python 3"
    },
    "language_info": {
      "name": "python"
    }
  },
  "cells": [
    {
      "cell_type": "markdown",
      "metadata": {
        "id": "view-in-github",
        "colab_type": "text"
      },
      "source": [
        "<a href=\"https://colab.research.google.com/github/UPstartDeveloper/Problem_Solving_Practice/blob/master/practice_fall_2021/Messagging_application.ipynb\" target=\"_parent\"><img src=\"https://colab.research.google.com/assets/colab-badge.svg\" alt=\"Open In Colab\"/></a>"
      ]
    },
    {
      "cell_type": "markdown",
      "metadata": {
        "id": "hCUp4-tRrhGV"
      },
      "source": [
        "# InterviewQs\n",
        "\n",
        "## Active users on a messaging application\n",
        "\n",
        "[Here](https://raw.githubusercontent.com/erood/interviewqs.com_code_snippets/master/Datasets/ddi_message_app_data.csv) is a table containing information from a P2P messaging application. The table contains send/receive message data for the application's users. The structure is as follows:\n",
        "\n",
        "**Table name: user_messaging**\n",
        "date\n",
        "\n",
        "*   date\n",
        "*   sender_id (#id of the message sender)\n",
        "*   receiver_id (#id of the message receiver)\n",
        "\n",
        "Question: Using Python, calculate what fraction of senders sent messages to at least 9 unique people on March 1, 2018. \n",
        "\n",
        "\n",
        "--------------------------------\n",
        "\n",
        "## Approach\n",
        "\n",
        "Proba = subset / total_size of population\n",
        "\n",
        "1. Calc: total # of unique sender ---> denominator\n",
        "2. Calc: numerator -\n",
        "    1. get all senders from 3/1/18\n",
        "    2. out of that, let's find senders ---> >= 9 unique receivers\n"
      ]
    },
    {
      "cell_type": "code",
      "metadata": {
        "id": "e7xkIqcaraE9"
      },
      "source": [
        "import pandas as pd"
      ],
      "execution_count": 1,
      "outputs": []
    },
    {
      "cell_type": "code",
      "metadata": {
        "colab": {
          "base_uri": "https://localhost:8080/",
          "height": 297
        },
        "id": "lckdOGpds27O",
        "outputId": "438d0b3c-a139-4122-e646-9225d9edee95"
      },
      "source": [
        "DATA_URL = \"https://raw.githubusercontent.com/erood/interviewqs.com_code_snippets/master/Datasets/ddi_message_app_data.csv\"\n",
        "df = pd.read_csv(DATA_URL)\n",
        "df.head(8)"
      ],
      "execution_count": 5,
      "outputs": [
        {
          "output_type": "execute_result",
          "data": {
            "text/html": [
              "<div>\n",
              "<style scoped>\n",
              "    .dataframe tbody tr th:only-of-type {\n",
              "        vertical-align: middle;\n",
              "    }\n",
              "\n",
              "    .dataframe tbody tr th {\n",
              "        vertical-align: top;\n",
              "    }\n",
              "\n",
              "    .dataframe thead th {\n",
              "        text-align: right;\n",
              "    }\n",
              "</style>\n",
              "<table border=\"1\" class=\"dataframe\">\n",
              "  <thead>\n",
              "    <tr style=\"text-align: right;\">\n",
              "      <th></th>\n",
              "      <th>date</th>\n",
              "      <th>sender_id</th>\n",
              "      <th>receiver_id</th>\n",
              "    </tr>\n",
              "  </thead>\n",
              "  <tbody>\n",
              "    <tr>\n",
              "      <th>0</th>\n",
              "      <td>2018-03-01</td>\n",
              "      <td>5</td>\n",
              "      <td>2</td>\n",
              "    </tr>\n",
              "    <tr>\n",
              "      <th>1</th>\n",
              "      <td>2018-03-01</td>\n",
              "      <td>8</td>\n",
              "      <td>6</td>\n",
              "    </tr>\n",
              "    <tr>\n",
              "      <th>2</th>\n",
              "      <td>2018-03-01</td>\n",
              "      <td>1</td>\n",
              "      <td>2</td>\n",
              "    </tr>\n",
              "    <tr>\n",
              "      <th>3</th>\n",
              "      <td>2018-03-01</td>\n",
              "      <td>4</td>\n",
              "      <td>8</td>\n",
              "    </tr>\n",
              "    <tr>\n",
              "      <th>4</th>\n",
              "      <td>2018-03-01</td>\n",
              "      <td>2</td>\n",
              "      <td>7</td>\n",
              "    </tr>\n",
              "    <tr>\n",
              "      <th>5</th>\n",
              "      <td>2018-03-01</td>\n",
              "      <td>7</td>\n",
              "      <td>1</td>\n",
              "    </tr>\n",
              "    <tr>\n",
              "      <th>6</th>\n",
              "      <td>2018-03-01</td>\n",
              "      <td>4</td>\n",
              "      <td>7</td>\n",
              "    </tr>\n",
              "    <tr>\n",
              "      <th>7</th>\n",
              "      <td>2018-03-01</td>\n",
              "      <td>6</td>\n",
              "      <td>2</td>\n",
              "    </tr>\n",
              "  </tbody>\n",
              "</table>\n",
              "</div>"
            ],
            "text/plain": [
              "         date  sender_id  receiver_id\n",
              "0  2018-03-01          5            2\n",
              "1  2018-03-01          8            6\n",
              "2  2018-03-01          1            2\n",
              "3  2018-03-01          4            8\n",
              "4  2018-03-01          2            7\n",
              "5  2018-03-01          7            1\n",
              "6  2018-03-01          4            7\n",
              "7  2018-03-01          6            2"
            ]
          },
          "metadata": {},
          "execution_count": 5
        }
      ]
    },
    {
      "cell_type": "code",
      "metadata": {
        "id": "0GS3mFTYtCXG"
      },
      "source": [
        "import numpy as np\n",
        "\n",
        "def is_more_than_zero(messages_sent) -> int:\n",
        "  \"\"\"This returns a True, so long as the \n",
        "     # of messages sent between the sender and receiver > 0\n",
        "  \"\"\"\n",
        "  return len(messages_sent) > 0\n",
        "\n",
        "def solution(df: pd.DataFrame) -> float:\n",
        "\n",
        "  ### HELPER\n",
        "  def _calculate_subset():\n",
        "    # A: get subset of messages sent on 3/1/2018\n",
        "    date_df = df[df['date'].str.match(\"2018-03-01\")]\n",
        "    messages = date_df.loc[:, [\"sender_id\", \"receiver_id\"]]\n",
        "    # B: get all ids of senders ---> # of unique receivers that day\n",
        "    table_senders_receivers = messages.pivot_table(index='sender_id', \n",
        "                                                      columns='receiver_id', \n",
        "                                                      aggfunc=is_more_than_zero,\n",
        "                                                      fill_value=0)\n",
        "    # C: get the number of sender with >= 9 unique receivers\n",
        "    unique_receivers_per_sender = table_senders_receivers.to_numpy().sum(axis=1)\n",
        "    sent_above_nine = np.where(unique_receivers_per_sender >= 9, 1, 0)\n",
        "    # D: all done!\n",
        "    return np.sum(sent_above_nine)\n",
        "\n",
        "  ### DRIVER\n",
        "  # A: denom = unique num of senders\n",
        "  denom = df[\"sender_id\"].nunique()\n",
        "  # B: numerator = subset of unique senders who sent messages, >= 9 receivers\n",
        "  numerator = _calculate_subset() # TODO\n",
        "  # C: return proba!\n",
        "  return numerator / denom"
      ],
      "execution_count": 191,
      "outputs": []
    },
    {
      "cell_type": "code",
      "metadata": {
        "colab": {
          "base_uri": "https://localhost:8080/"
        },
        "id": "Ryrved7fu4CG",
        "outputId": "4a22803b-ebf5-4c80-8b0e-1e9304699a9f"
      },
      "source": [
        "solution(df)"
      ],
      "execution_count": 192,
      "outputs": [
        {
          "output_type": "execute_result",
          "data": {
            "text/plain": [
              "0.9"
            ]
          },
          "metadata": {},
          "execution_count": 192
        }
      ]
    }
  ]
}