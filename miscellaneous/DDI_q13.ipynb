{
  "nbformat": 4,
  "nbformat_minor": 0,
  "metadata": {
    "colab": {
      "name": "DDI_q13.ipynb",
      "provenance": [],
      "collapsed_sections": [],
      "include_colab_link": true
    },
    "kernelspec": {
      "name": "python3",
      "display_name": "Python 3"
    }
  },
  "cells": [
    {
      "cell_type": "markdown",
      "metadata": {
        "id": "view-in-github",
        "colab_type": "text"
      },
      "source": [
        "<a href=\"https://colab.research.google.com/github/UPstartDeveloper/Problem_Solving_Practice/blob/master/DDI_q13.ipynb\" target=\"_parent\"><img src=\"https://colab.research.google.com/assets/colab-badge.svg\" alt=\"Open In Colab\"/></a>"
      ]
    },
    {
      "cell_type": "markdown",
      "metadata": {
        "id": "oZQ6tSNDGG0X"
      },
      "source": [
        "# Cleaning and analyzing employee data\n",
        "\n",
        "Question from <a href=\"www.interviewqs.com\">Data Interview Qs</a> - sign up to receive a few DS questions/week via email."
      ]
    },
    {
      "cell_type": "markdown",
      "metadata": {
        "id": "L6gxnICOGbY7"
      },
      "source": [
        "\n",
        "\n",
        "---\n",
        "\n"
      ]
    },
    {
      "cell_type": "markdown",
      "metadata": {
        "id": "lAO1SIUeBtWI"
      },
      "source": [
        "Below is a snippet from a table that contains information about employees that work at Company XYZ:\n"
      ]
    },
    {
      "cell_type": "code",
      "metadata": {
        "id": "rmRxg2xvHvkv",
        "colab": {
          "base_uri": "https://localhost:8080/",
          "height": 173
        },
        "outputId": "7093ebb3-7400-474e-daad-41915b69723d"
      },
      "source": [
        "import pandas as pd\n",
        "from datetime import datetime\n",
        "from dateutil.parser import parse\n",
        "import numpy as np\n",
        "raw_data = {'employee_name': ['Andy', 'Beth', 'Cindy', \"Dale\"],\n",
        "            'employee_id': [123456,789456,654123,963852],\n",
        "            'date_joined': ['2015-02-15', np.nan, '2017-05-16', \"2018-01-15\"],\n",
        "            'age': [45,36,34,25],\n",
        "            'yrs_of_experience': [24,14,14,4]}\n",
        "df = pd.DataFrame(raw_data, columns = ['employee_name', 'employee_id', 'date_joined','age', 'yrs_of_experience'])\n",
        "df"
      ],
      "execution_count": null,
      "outputs": [
        {
          "output_type": "execute_result",
          "data": {
            "text/html": [
              "<div>\n",
              "<style scoped>\n",
              "    .dataframe tbody tr th:only-of-type {\n",
              "        vertical-align: middle;\n",
              "    }\n",
              "\n",
              "    .dataframe tbody tr th {\n",
              "        vertical-align: top;\n",
              "    }\n",
              "\n",
              "    .dataframe thead th {\n",
              "        text-align: right;\n",
              "    }\n",
              "</style>\n",
              "<table border=\"1\" class=\"dataframe\">\n",
              "  <thead>\n",
              "    <tr style=\"text-align: right;\">\n",
              "      <th></th>\n",
              "      <th>employee_name</th>\n",
              "      <th>employee_id</th>\n",
              "      <th>date_joined</th>\n",
              "      <th>age</th>\n",
              "      <th>yrs_of_experience</th>\n",
              "    </tr>\n",
              "  </thead>\n",
              "  <tbody>\n",
              "    <tr>\n",
              "      <th>0</th>\n",
              "      <td>Andy</td>\n",
              "      <td>123456</td>\n",
              "      <td>2015-02-15</td>\n",
              "      <td>45</td>\n",
              "      <td>24</td>\n",
              "    </tr>\n",
              "    <tr>\n",
              "      <th>1</th>\n",
              "      <td>Beth</td>\n",
              "      <td>789456</td>\n",
              "      <td>NaN</td>\n",
              "      <td>36</td>\n",
              "      <td>14</td>\n",
              "    </tr>\n",
              "    <tr>\n",
              "      <th>2</th>\n",
              "      <td>Cindy</td>\n",
              "      <td>654123</td>\n",
              "      <td>2017-05-16</td>\n",
              "      <td>34</td>\n",
              "      <td>14</td>\n",
              "    </tr>\n",
              "    <tr>\n",
              "      <th>3</th>\n",
              "      <td>Dale</td>\n",
              "      <td>963852</td>\n",
              "      <td>2018-01-15</td>\n",
              "      <td>25</td>\n",
              "      <td>4</td>\n",
              "    </tr>\n",
              "  </tbody>\n",
              "</table>\n",
              "</div>"
            ],
            "text/plain": [
              "  employee_name  employee_id date_joined  age  yrs_of_experience\n",
              "0          Andy       123456  2015-02-15   45                 24\n",
              "1          Beth       789456         NaN   36                 14\n",
              "2         Cindy       654123  2017-05-16   34                 14\n",
              "3          Dale       963852  2018-01-15   25                  4"
            ]
          },
          "metadata": {
            "tags": []
          },
          "execution_count": 1
        }
      ]
    },
    {
      "cell_type": "markdown",
      "metadata": {
        "id": "Q1CRwol5H_Kv"
      },
      "source": [
        "Company XYZ recently migrated database systems causing some of the date_joined records to be NULL. You're told by an analyst in human resources NULL records for the date_joined field indicates the employees joined prior to 2010. You also find out there are multiple employees with the same name and duplicate records for some employees.\n",
        "\n",
        "**Question:** Can you write code using pandas that finds the number of employees that joined each month? You can group all of the NULL values as Dec 1, 2009. "
      ]
    },
    {
      "cell_type": "markdown",
      "metadata": {
        "id": "zKsMcz1rj0Pn"
      },
      "source": [
        "1. Restate the Problem:\n",
        "  - so you want me to basically create a histogram - basically it'll show months as the buckets, and the number of new employees who joined in that month as the value in that bucket?\n",
        "\n",
        "2. Clarifying Questions\n",
        "- can we assume that new employees only join on the first of the month? --> no\n",
        "- how would you like me to present the results? ---> assume a bar chart will work\n",
        "- is there a specific time range I should show on the bar plot, or do we only care about the months founds in the dataset? ---> only those represented?\n",
        "- can we assume that each employee has a unique id? and that there are no Nans in this column? ---> yes\n",
        "- do months of different years get counted differently? --> yes\n",
        "- do the months need to be sequentially sorted? ---> yes\n",
        "\n",
        "\n",
        "3. THINK\n",
        "\n",
        "Intuition:\n",
        "- if I was to do this on the example input given, the output would be:\n",
        "    ```\n",
        "    December '09 : 1,\n",
        "    Feb '15 : 1,\n",
        "    May '17 : 1,\n",
        "    Jan '18 : 1\n",
        "    ```\n",
        "\n",
        "\n",
        "- Approach\n",
        "  - iterate over the date_joined col, keep a count of the number of employees that were found to join in each month\n",
        "    - date time parsing?\n",
        "    - telling the difference between same names --> different or new employee?\n",
        "\n",
        "  - after words --> probably store it in a pandas df, and then just plot it?"
      ]
    },
    {
      "cell_type": "markdown",
      "metadata": {
        "id": "71qlS5ZZDBKE"
      },
      "source": [
        "\n",
        "\n",
        "---\n",
        "\n"
      ]
    },
    {
      "cell_type": "code",
      "metadata": {
        "id": "cAuoeAXLnEu7"
      },
      "source": [
        "def replace_null(date):\n",
        "  if date == np.nan:\n",
        "    return '2009-12-1'\n",
        "  else:\n",
        "    return date\n",
        "\n",
        "\n",
        "def visualize_new_employee_join_dates(df: pd.DataFrame):\n",
        "  # A: slice DF to get date_joined and employee id cols (just the unique rows)\n",
        "  new_employees = df[['employee_id','date_joined']]\n",
        "  # B: replace all the nulls with dt equivalent of December 1, 2009\n",
        "  new_employees['date_joined'] = new_employees['date_joined'].fillna('2009-12-1')\n",
        "  # C: sort the rows of the slice sequentially by date_joined\n",
        "  new_employees = new_employees.sort_values(by='date_joined')\n",
        "  # D: drop duplicate rows by the employee id\n",
        "  new_employees.drop_duplicates(subset=['employee_id'], keep='first')\n",
        "  # E: make a histogram from the value_counts wof the date_joined column\n",
        "  new_employees_by_month = new_employees['date_joined'].hist()\n",
        "  return new_employees_by_month"
      ],
      "execution_count": null,
      "outputs": []
    },
    {
      "cell_type": "code",
      "metadata": {
        "id": "FOrYs6hbqYZl",
        "colab": {
          "base_uri": "https://localhost:8080/",
          "height": 404
        },
        "outputId": "459133f4-55ef-4f4a-cf46-79293bd2ee69"
      },
      "source": [
        "new_employees_by_month = visualize_new_employee_join_dates(df)\n",
        "new_employees_by_month"
      ],
      "execution_count": null,
      "outputs": [
        {
          "output_type": "stream",
          "text": [
            "/usr/local/lib/python3.7/dist-packages/ipykernel_launcher.py:12: SettingWithCopyWarning: \n",
            "A value is trying to be set on a copy of a slice from a DataFrame.\n",
            "Try using .loc[row_indexer,col_indexer] = value instead\n",
            "\n",
            "See the caveats in the documentation: https://pandas.pydata.org/pandas-docs/stable/user_guide/indexing.html#returning-a-view-versus-a-copy\n",
            "  if sys.path[0] == '':\n"
          ],
          "name": "stderr"
        },
        {
          "output_type": "execute_result",
          "data": {
            "text/plain": [
              "<matplotlib.axes._subplots.AxesSubplot at 0x7fb51efa5890>"
            ]
          },
          "metadata": {
            "tags": []
          },
          "execution_count": 60
        },
        {
          "output_type": "display_data",
          "data": {
            "image/png": "[encoded data removed]",
            "text/plain": [
              "<Figure size 432x288 with 1 Axes>"
            ]
          },
          "metadata": {
            "tags": [],
            "needs_background": "light"
          }
        }
      ]
    },
    {
      "cell_type": "markdown",
      "metadata": {
        "id": "NIqbT2xgC4eD"
      },
      "source": [
        "<a href=\"https://www.interviewqs.com/signup\">Upgrade to premium</a> to receive in-depth solutions to each problem."
      ]
    }
  ]
}