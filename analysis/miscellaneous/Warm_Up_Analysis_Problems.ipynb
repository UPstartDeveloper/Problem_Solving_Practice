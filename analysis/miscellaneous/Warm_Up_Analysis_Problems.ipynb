{
  "nbformat": 4,
  "nbformat_minor": 0,
  "metadata": {
    "colab": {
      "name": "Warm_Up_Analysis_Problems.ipynb",
      "provenance": [],
      "collapsed_sections": [],
      "authorship_tag": "ABX9TyNB9Isf9T/Q1PNJySgt5xdt",
      "include_colab_link": true
    },
    "kernelspec": {
      "name": "python3",
      "display_name": "Python 3"
    },
    "language_info": {
      "name": "python"
    }
  },
  "cells": [
    {
      "cell_type": "markdown",
      "metadata": {
        "id": "view-in-github",
        "colab_type": "text"
      },
      "source": [
        "<a href=\"https://colab.research.google.com/github/UPstartDeveloper/Problem_Solving_Practice/blob/master/Problem_Solving_Practice/miscellaneous/Warm_Up_Analysis_Problems.ipynb\" target=\"_parent\"><img src=\"https://colab.research.google.com/assets/colab-badge.svg\" alt=\"Open In Colab\"/></a>"
      ]
    },
    {
      "cell_type": "markdown",
      "source": [
        "# Question 1 - On PDFs\n"
      ],
      "metadata": {
        "id": "9454fxW4LWow"
      }
    },
    {
      "cell_type": "markdown",
      "metadata": {
        "id": "KSns25UR-eBh"
      },
      "source": [
        "![Question 1 Image](https://i.postimg.cc/qMCwz3ZY/kash-colab-fun-happy-fun-times-hip-hip-hooray.jpg)\n",
        "\n",
        "We may **assume** that the number of times Colab crashes in Aakash's classes is normally distributed."
      ]
    },
    {
      "cell_type": "code",
      "metadata": {
        "id": "-kEvyr7n-u6c"
      },
      "source": [
        "import numpy as np\n",
        "from scipy import stats\n",
        "import matplotlib.pyplot as plt\n",
        "\n",
        "np.random.seed(42)"
      ],
      "execution_count": null,
      "outputs": []
    },
    {
      "cell_type": "markdown",
      "metadata": {
        "id": "Z6S7Q9eDFJxs"
      },
      "source": [
        "## Step A: Generate a Sample Distribution"
      ]
    },
    {
      "cell_type": "code",
      "metadata": {
        "id": "rkblx14C-UFE"
      },
      "source": [
        "# A: generate a sample dist\n",
        "mu, sigma = 2.5, 0.7  # mean and standard devivation\n",
        "classes_periods = 50  # guessing how many classes Kash has taught\n",
        "samples = np.random.normal(mu, sigma, classes_periods)"
      ],
      "execution_count": null,
      "outputs": []
    },
    {
      "cell_type": "code",
      "metadata": {
        "colab": {
          "base_uri": "https://localhost:8080/"
        },
        "id": "jqQrfQEw-7nx",
        "outputId": "233e1caf-4ae9-4e76-c29e-8bfd90d86c7a"
      },
      "source": [
        "samples.shape"
      ],
      "execution_count": null,
      "outputs": [
        {
          "output_type": "execute_result",
          "data": {
            "text/plain": [
              "(50,)"
            ]
          },
          "metadata": {},
          "execution_count": 3
        }
      ]
    },
    {
      "cell_type": "markdown",
      "metadata": {
        "id": "CydLkTGAFGPq"
      },
      "source": [
        "## (Optional) Step B: Show the PDF "
      ]
    },
    {
      "cell_type": "code",
      "metadata": {
        "colab": {
          "base_uri": "https://localhost:8080/",
          "height": 295
        },
        "id": "BXhSSDDX-8fo",
        "outputId": "c6c33db8-f939-4114-c3a4-557e01d99242"
      },
      "source": [
        "# the equation for the PDF is borrowed from the NumPy docs: https://numpy.org/doc/stable/reference/random/generated/numpy.random.normal.html\n",
        "bin_edges, bins_probabilites, ignored = plt.hist(samples, 14, density=True)\n",
        "plt.plot(bins_probabilites, 1/(sigma * np.sqrt(2 * np.pi)) *\n",
        "               np.exp(-(bins_probabilites - mu)**2 / (2 * sigma**2)),\n",
        "         linewidth=2, color='r')\n",
        "plt.title(\"The PDF of Kash's Colab Tutorials Crashing\")\n",
        "plt.ylabel(\"Probability\")\n",
        "plt.xlabel(\"No. of Crashes Per Class Period\")\n",
        "plt.show()"
      ],
      "execution_count": null,
      "outputs": [
        {
          "output_type": "display_data",
          "data": {
            "image/png": "[encoded data removed]",
            "text/plain": [
              "<Figure size 432x288 with 1 Axes>"
            ]
          },
          "metadata": {
            "needs_background": "light"
          }
        }
      ]
    },
    {
      "cell_type": "markdown",
      "metadata": {
        "id": "kBl4iFGSFS7d"
      },
      "source": [
        "## Step C: Compute the CDF\n",
        "\n",
        "*This the answer btw :) *"
      ]
    },
    {
      "cell_type": "code",
      "metadata": {
        "colab": {
          "base_uri": "https://localhost:8080/"
        },
        "id": "pZlsOY-gB8hw",
        "outputId": "573c8d02-7b5f-408f-d3f0-f92c95ae170b"
      },
      "source": [
        "# B: compute the CDF of the distribution, using 2 as the input\n",
        "probability = np.squeeze(np.sum(np.where(samples < 2, True, False)) / samples.shape) # no. of samples < 2, divided by total count\n",
        "print(f\"The chance of Kash not rage-quitting today is {probability}.\")"
      ],
      "execution_count": null,
      "outputs": [
        {
          "output_type": "stream",
          "name": "stdout",
          "text": [
            "The chance of Kash not rage-quitting today is 0.28.\n"
          ]
        }
      ]
    },
    {
      "cell_type": "markdown",
      "metadata": {
        "id": "H7CDE6KYF9nE"
      },
      "source": [
        "## (Optional) Step D: Show the CDF"
      ]
    },
    {
      "cell_type": "code",
      "metadata": {
        "colab": {
          "base_uri": "https://localhost:8080/",
          "height": 295
        },
        "id": "GyQDJLJ3EW2p",
        "outputId": "bb18608a-f819-4c90-ec1d-b1a7d06b2708"
      },
      "source": [
        "bin_edges, bins_probabilites, ignored = plt.hist(samples, 14, density=True)\n",
        "sorted_data = np.sort(samples)\n",
        "cdf_values = stats.norm.cdf(sorted_data, mu, sigma)\n",
        "plt.plot(sorted_data, cdf_values, color='y')\n",
        "plt.title(\"The CDF of Kash's Colab Tutorials Crashing\")\n",
        "plt.ylabel(\"Cumulative Probability\")\n",
        "plt.xlabel(\"No. of Crashes Per Class Period\")\n",
        "plt.show()"
      ],
      "execution_count": null,
      "outputs": [
        {
          "output_type": "display_data",
          "data": {
            "image/png": "[encoded data removed]",
            "text/plain": [
              "<Figure size 432x288 with 1 Axes>"
            ]
          },
          "metadata": {
            "needs_background": "light"
          }
        }
      ]
    },
    {
      "cell_type": "markdown",
      "source": [
        "# Question 2 - On Hypothesis Testing\n",
        "\n",
        "## Testing the toxicity of water\n",
        "\n",
        "Suppose you're trying to measure the Selenium toxicity in your tap water, and obtain the following values for each day:\n",
        "\n",
        "    \n",
        "``` \n",
        "day\tselenium\n",
        "1\t  0.051\n",
        "2\t  0.0505\n",
        "3\t  0.049\n",
        "4\t  0.0516\n",
        "5\t  0.052\n",
        "6\t  0.0508\n",
        "7\t  0.0506\n",
        "```\n",
        "\n",
        "The maxiumum level for safe drinking water is 0.05 mg/L -- using this as your alpha, does the selenium tap level exceed the legal limit? \n",
        "\n",
        "*Hint 1: you can use a t-test here*\n",
        "\n",
        "*Hint 2: read this blog on the most common [t-tests in Python, by Ian Gallagher](https://iaingallagher.tumblr.com/post/50980987285/t-tests-in-python).*"
      ],
      "metadata": {
        "id": "1lOy1iaJLe06"
      }
    },
    {
      "cell_type": "code",
      "source": [
        "!pip install scipy==1.6.0 # needed for doing left-tailed or right-tailed 1-sample t-tests"
      ],
      "metadata": {
        "colab": {
          "base_uri": "https://localhost:8080/"
        },
        "id": "QiS2ZT29Q3Bj",
        "outputId": "8e6306fd-8067-417a-c001-a2dde56c3654"
      },
      "execution_count": 1,
      "outputs": [
        {
          "output_type": "stream",
          "name": "stdout",
          "text": [
            "Requirement already satisfied: scipy==1.6.0 in /usr/local/lib/python3.7/dist-packages (1.6.0)\n",
            "Requirement already satisfied: numpy>=1.16.5 in /usr/local/lib/python3.7/dist-packages (from scipy==1.6.0) (1.19.5)\n"
          ]
        }
      ]
    },
    {
      "cell_type": "code",
      "metadata": {
        "id": "HaIOLrlyG42D",
        "colab": {
          "base_uri": "https://localhost:8080/"
        },
        "outputId": "8f85ed3d-0cb7-4220-8a05-06178f1601dc"
      },
      "source": [
        "from scipy import stats\n",
        "\n",
        "\n",
        "# A: define params of test\n",
        "alpha = 0.05 # question interviewer: what's the significance level? \n",
        "safe_limit_for_population = 0.05\n",
        "sample_values = [0.051, 0.0505, 0.049, 0.0516, 0.052, 0.0508, 0.0506]\n",
        "null_hypothesis = \"The mean level of selenium in our tap water, based on the \\\n",
        "sample, is less than or equal to 0.05 mg/L with 95% confidence (safe to drink).\"\n",
        "alt_hypothesis = \"The mean level of selenium in our tap water, based on the \\\n",
        "sample, is more than 0.05 mg/L with 95% confidence (not safe to drink).\"\n",
        "\n",
        "# B: perform the test - use the \"alternative\" keyword to say it's right-tailed\n",
        "t, p = stats.ttest_1samp(sample_values, safe_limit_for_population, alternative='greater')\n",
        "\n",
        "# C: report the results\n",
        "print(f\"The t-statistic is {t}, alpha is {alpha} and the p-value is {p}.\")\n",
        "if p < alpha:  # the data is not significant enough to keep the null hypothesis\n",
        "  print(\"Null hypothesis is rejected! Water needs to be examined more.\")\n",
        "else:\n",
        "  print(\"Null hypothesis cannot be rejected! Water is safe :)\")"
      ],
      "execution_count": 5,
      "outputs": [
        {
          "output_type": "stream",
          "name": "stdout",
          "text": [
            "The t-statistic is 2.173499949434694, alpha is 0.05 and the p-value is 0.03635505933982123.\n",
            "Null hypothesis is rejected! Water needs to be examined more.\n"
          ]
        }
      ]
    }
  ]
}