{
  "nbformat": 4,
  "nbformat_minor": 0,
  "metadata": {
    "colab": {
      "name": "Warm_Up_Analysis_Problems.ipynb",
      "provenance": [],
      "collapsed_sections": [],
      "toc_visible": true,
      "authorship_tag": "ABX9TyOBWdO9kW1mHlsk9IqmIVwp",
      "include_colab_link": true
    },
    "kernelspec": {
      "name": "python3",
      "display_name": "Python 3"
    },
    "language_info": {
      "name": "python"
    }
  },
  "cells": [
    {
      "cell_type": "markdown",
      "metadata": {
        "id": "view-in-github",
        "colab_type": "text"
      },
      "source": [
        "<a href=\"https://colab.research.google.com/github/UPstartDeveloper/Problem_Solving_Practice/blob/master/analysis/miscellaneous/Warm_Up_Analysis_Problems.ipynb\" target=\"_parent\"><img src=\"https://colab.research.google.com/assets/colab-badge.svg\" alt=\"Open In Colab\"/></a>"
      ]
    },
    {
      "cell_type": "markdown",
      "source": [
        "# Question 1 - On PDFs\n"
      ],
      "metadata": {
        "id": "9454fxW4LWow"
      }
    },
    {
      "cell_type": "markdown",
      "metadata": {
        "id": "KSns25UR-eBh"
      },
      "source": [
        "![Question 1 Image](https://i.postimg.cc/qMCwz3ZY/kash-colab-fun-happy-fun-times-hip-hip-hooray.jpg)\n",
        "\n",
        "We may **assume** that the number of times Colab crashes in Aakash's classes is normally distributed."
      ]
    },
    {
      "cell_type": "code",
      "metadata": {
        "id": "-kEvyr7n-u6c"
      },
      "source": [
        "import numpy as np\n",
        "from scipy import stats\n",
        "import matplotlib.pyplot as plt\n",
        "\n",
        "np.random.seed(42)"
      ],
      "execution_count": null,
      "outputs": []
    },
    {
      "cell_type": "markdown",
      "metadata": {
        "id": "Z6S7Q9eDFJxs"
      },
      "source": [
        "## Step A: Generate a Sample Distribution"
      ]
    },
    {
      "cell_type": "code",
      "metadata": {
        "id": "rkblx14C-UFE"
      },
      "source": [
        "# A: generate a sample dist\n",
        "mu, sigma = 2.5, 0.7  # mean and standard devivation\n",
        "classes_periods = 50  # guessing how many classes Kash has taught\n",
        "samples = np.random.normal(mu, sigma, classes_periods)"
      ],
      "execution_count": null,
      "outputs": []
    },
    {
      "cell_type": "code",
      "metadata": {
        "colab": {
          "base_uri": "https://localhost:8080/"
        },
        "id": "jqQrfQEw-7nx",
        "outputId": "233e1caf-4ae9-4e76-c29e-8bfd90d86c7a"
      },
      "source": [
        "samples.shape"
      ],
      "execution_count": null,
      "outputs": [
        {
          "output_type": "execute_result",
          "data": {
            "text/plain": [
              "(50,)"
            ]
          },
          "metadata": {},
          "execution_count": 3
        }
      ]
    },
    {
      "cell_type": "markdown",
      "metadata": {
        "id": "CydLkTGAFGPq"
      },
      "source": [
        "## (Optional) Step B: Show the PDF "
      ]
    },
    {
      "cell_type": "code",
      "metadata": {
        "colab": {
          "base_uri": "https://localhost:8080/",
          "height": 295
        },
        "id": "BXhSSDDX-8fo",
        "outputId": "c6c33db8-f939-4114-c3a4-557e01d99242"
      },
      "source": [
        "# the equation for the PDF is borrowed from the NumPy docs: https://numpy.org/doc/stable/reference/random/generated/numpy.random.normal.html\n",
        "bin_edges, bins_probabilites, ignored = plt.hist(samples, 14, density=True)\n",
        "plt.plot(bins_probabilites, 1/(sigma * np.sqrt(2 * np.pi)) *\n",
        "               np.exp(-(bins_probabilites - mu)**2 / (2 * sigma**2)),\n",
        "         linewidth=2, color='r')\n",
        "plt.title(\"The PDF of Kash's Colab Tutorials Crashing\")\n",
        "plt.ylabel(\"Probability\")\n",
        "plt.xlabel(\"No. of Crashes Per Class Period\")\n",
        "plt.show()"
      ],
      "execution_count": null,
      "outputs": [
        {
          "output_type": "display_data",
          "data": {
            "image/png": "[encoded data removed]",
            "text/plain": [
              "<Figure size 432x288 with 1 Axes>"
            ]
          },
          "metadata": {
            "needs_background": "light"
          }
        }
      ]
    },
    {
      "cell_type": "markdown",
      "metadata": {
        "id": "kBl4iFGSFS7d"
      },
      "source": [
        "## Step C: Compute the CDF\n",
        "\n",
        "*This the answer btw :) *"
      ]
    },
    {
      "cell_type": "code",
      "metadata": {
        "colab": {
          "base_uri": "https://localhost:8080/"
        },
        "id": "pZlsOY-gB8hw",
        "outputId": "573c8d02-7b5f-408f-d3f0-f92c95ae170b"
      },
      "source": [
        "# B: compute the CDF of the distribution, using 2 as the input\n",
        "probability = np.squeeze(np.sum(np.where(samples < 2, True, False)) / samples.shape) # no. of samples < 2, divided by total count\n",
        "print(f\"The chance of Kash not rage-quitting today is {probability}.\")"
      ],
      "execution_count": null,
      "outputs": [
        {
          "output_type": "stream",
          "name": "stdout",
          "text": [
            "The chance of Kash not rage-quitting today is 0.28.\n"
          ]
        }
      ]
    },
    {
      "cell_type": "markdown",
      "metadata": {
        "id": "H7CDE6KYF9nE"
      },
      "source": [
        "## (Optional) Step D: Show the CDF"
      ]
    },
    {
      "cell_type": "code",
      "metadata": {
        "colab": {
          "base_uri": "https://localhost:8080/",
          "height": 295
        },
        "id": "GyQDJLJ3EW2p",
        "outputId": "bb18608a-f819-4c90-ec1d-b1a7d06b2708"
      },
      "source": [
        "bin_edges, bins_probabilites, ignored = plt.hist(samples, 14, density=True)\n",
        "sorted_data = np.sort(samples)\n",
        "cdf_values = stats.norm.cdf(sorted_data, mu, sigma)\n",
        "plt.plot(sorted_data, cdf_values, color='y')\n",
        "plt.title(\"The CDF of Kash's Colab Tutorials Crashing\")\n",
        "plt.ylabel(\"Cumulative Probability\")\n",
        "plt.xlabel(\"No. of Crashes Per Class Period\")\n",
        "plt.show()"
      ],
      "execution_count": null,
      "outputs": [
        {
          "output_type": "display_data",
          "data": {
            "image/png": "[encoded data removed]",
            "text/plain": [
              "<Figure size 432x288 with 1 Axes>"
            ]
          },
          "metadata": {
            "needs_background": "light"
          }
        }
      ]
    },
    {
      "cell_type": "markdown",
      "source": [
        "# Question 2 - On Hypothesis Testing\n",
        "\n",
        "## Testing the toxicity of water\n",
        "\n",
        "Suppose you're trying to measure the Selenium toxicity in your tap water, and obtain the following values for each day:\n",
        "\n",
        "    \n",
        "``` \n",
        "day\tselenium\n",
        "1\t  0.051\n",
        "2\t  0.0505\n",
        "3\t  0.049\n",
        "4\t  0.0516\n",
        "5\t  0.052\n",
        "6\t  0.0508\n",
        "7\t  0.0506\n",
        "```\n",
        "\n",
        "The maxiumum level for safe drinking water is 0.05 mg/L -- using this as your alpha, does the selenium tap level exceed the legal limit? \n",
        "\n",
        "*Hint 1: you can use a t-test here*\n",
        "\n",
        "*Hint 2: read this blog on the most common [t-tests in Python, by Ian Gallagher](https://iaingallagher.tumblr.com/post/50980987285/t-tests-in-python).*"
      ],
      "metadata": {
        "id": "1lOy1iaJLe06"
      }
    },
    {
      "cell_type": "code",
      "source": [
        "!pip install scipy==1.6.0 # needed for doing left-tailed or right-tailed 1-sample t-tests"
      ],
      "metadata": {
        "colab": {
          "base_uri": "https://localhost:8080/"
        },
        "id": "QiS2ZT29Q3Bj",
        "outputId": "8e6306fd-8067-417a-c001-a2dde56c3654"
      },
      "execution_count": null,
      "outputs": [
        {
          "output_type": "stream",
          "name": "stdout",
          "text": [
            "Requirement already satisfied: scipy==1.6.0 in /usr/local/lib/python3.7/dist-packages (1.6.0)\n",
            "Requirement already satisfied: numpy>=1.16.5 in /usr/local/lib/python3.7/dist-packages (from scipy==1.6.0) (1.19.5)\n"
          ]
        }
      ]
    },
    {
      "cell_type": "code",
      "metadata": {
        "id": "HaIOLrlyG42D",
        "colab": {
          "base_uri": "https://localhost:8080/"
        },
        "outputId": "8f85ed3d-0cb7-4220-8a05-06178f1601dc"
      },
      "source": [
        "from scipy import stats\n",
        "\n",
        "\n",
        "# A: define params of test\n",
        "alpha = 0.05 # question interviewer: what's the significance level? \n",
        "safe_limit_for_population = 0.05\n",
        "sample_values = [0.051, 0.0505, 0.049, 0.0516, 0.052, 0.0508, 0.0506]\n",
        "null_hypothesis = \"The mean level of selenium in our tap water, based on the \\\n",
        "sample, is less than or equal to 0.05 mg/L with 95% confidence (safe to drink).\"\n",
        "alt_hypothesis = \"The mean level of selenium in our tap water, based on the \\\n",
        "sample, is more than 0.05 mg/L with 95% confidence (not safe to drink).\"\n",
        "\n",
        "# B: perform the test - use the \"alternative\" keyword to say it's right-tailed\n",
        "t, p = stats.ttest_1samp(sample_values, safe_limit_for_population, alternative='greater')\n",
        "\n",
        "# C: report the results\n",
        "print(f\"The t-statistic is {t}, alpha is {alpha} and the p-value is {p}.\")\n",
        "if p < alpha:  # the data is not significant enough to keep the null hypothesis\n",
        "  print(\"Null hypothesis is rejected! Water needs to be examined more.\")\n",
        "else:\n",
        "  print(\"Null hypothesis cannot be rejected! Water is safe :)\")"
      ],
      "execution_count": null,
      "outputs": [
        {
          "output_type": "stream",
          "name": "stdout",
          "text": [
            "The t-statistic is 2.173499949434694, alpha is 0.05 and the p-value is 0.03635505933982123.\n",
            "Null hypothesis is rejected! Water needs to be examined more.\n"
          ]
        }
      ]
    },
    {
      "cell_type": "markdown",
      "source": [
        "# Question 3 - Retention Analysis\n",
        "\n",
        "pass"
      ],
      "metadata": {
        "id": "rKz_N2hXLhYe"
      }
    },
    {
      "cell_type": "code",
      "source": [
        ""
      ],
      "metadata": {
        "id": "U1V6uLapLg5U"
      },
      "execution_count": null,
      "outputs": []
    },
    {
      "cell_type": "markdown",
      "source": [
        "# Question 4 - Kmeans Clustering\n",
        "\n",
        "Suppose you have the following [dataset](https://docs.google.com/spreadsheets/u/1/d/1yhXHBSYMuNyFQtQJvhCQeH7qHlwFnZVRNrSagAHVEyw/edit#gid=642376931) which contains (1st tab) a list of items purchased by a given user, (2nd tab) a mapping which maps the item_id to the item name and price, (3rd tab) a matrix that formats data from sheet 1 into a matrix with users in rows and the number of each item_id purchased in columns.\n",
        "\n",
        "    \n",
        "With this data, we want to see if we can cluster types of groceries that are typically purchased together. In a previous question, for this data set, we wanted to build plots to look at n=3, 5, and 7. Knowing this, can you create a function that allows us to input the number of clusters and returns a plot with the potential clusters using Principal Component Analysis (PCA)?\n",
        "\n",
        "    \n",
        "Answer will be written in Python for premium users."
      ],
      "metadata": {
        "id": "cX2BhZJ-4SGc"
      }
    },
    {
      "cell_type": "markdown",
      "source": [
        "# Question 5 - Revenue Visualization\n",
        "\n",
        "*From InterviewQs*:\n",
        "```\n",
        "Suppose you are given a data set of Chipotle orders. \n",
        "Using these data, can you make a plot showing total revenue per menu item? \n",
        "\n",
        "Note, you'll probably want to classify the menu items into categories, or you'll have a very long list.\n",
        "```"
      ],
      "metadata": {
        "id": "X_06Ye9UhGrE"
      }
    },
    {
      "cell_type": "code",
      "source": [
        "import pandas as pd\n",
        "import matplotlib.pyplot as plt\n",
        "import seaborn as sns\n",
        "import numpy as np\n",
        "\n",
        "# plot pretty figures\n",
        "%matplotlib inline\n",
        "sns.set_style('darkgrid')"
      ],
      "metadata": {
        "id": "aF-wEGmi4jHN"
      },
      "execution_count": null,
      "outputs": []
    },
    {
      "cell_type": "code",
      "source": [
        "file_path = \"https://raw.githubusercontent.com/justmarkham/DAT8/master/data/chipotle.tsv\"\n",
        "df = pd.read_csv(file_path, sep=\"\\t\")"
      ],
      "metadata": {
        "id": "qMYkezf6hPQT"
      },
      "execution_count": null,
      "outputs": []
    },
    {
      "cell_type": "code",
      "source": [
        "df.head(5)"
      ],
      "metadata": {
        "colab": {
          "base_uri": "https://localhost:8080/",
          "height": 302
        },
        "id": "OBUfEtH9hRwh",
        "outputId": "1a0ff892-1bce-4fb8-8dd2-4707efa6686f"
      },
      "execution_count": null,
      "outputs": [
        {
          "output_type": "execute_result",
          "data": {
            "text/html": [
              "\n",
              "  <div id=\"df-99734733-5d11-4ea4-afe2-83d6580c68c5\">\n",
              "    <div class=\"colab-df-container\">\n",
              "      <div>\n",
              "<style scoped>\n",
              "    .dataframe tbody tr th:only-of-type {\n",
              "        vertical-align: middle;\n",
              "    }\n",
              "\n",
              "    .dataframe tbody tr th {\n",
              "        vertical-align: top;\n",
              "    }\n",
              "\n",
              "    .dataframe thead th {\n",
              "        text-align: right;\n",
              "    }\n",
              "</style>\n",
              "<table border=\"1\" class=\"dataframe\">\n",
              "  <thead>\n",
              "    <tr style=\"text-align: right;\">\n",
              "      <th></th>\n",
              "      <th>order_id</th>\n",
              "      <th>quantity</th>\n",
              "      <th>item_name</th>\n",
              "      <th>choice_description</th>\n",
              "      <th>item_price</th>\n",
              "    </tr>\n",
              "  </thead>\n",
              "  <tbody>\n",
              "    <tr>\n",
              "      <th>0</th>\n",
              "      <td>1</td>\n",
              "      <td>1</td>\n",
              "      <td>Chips and Fresh Tomato Salsa</td>\n",
              "      <td>NaN</td>\n",
              "      <td>$2.39</td>\n",
              "    </tr>\n",
              "    <tr>\n",
              "      <th>1</th>\n",
              "      <td>1</td>\n",
              "      <td>1</td>\n",
              "      <td>Izze</td>\n",
              "      <td>[Clementine]</td>\n",
              "      <td>$3.39</td>\n",
              "    </tr>\n",
              "    <tr>\n",
              "      <th>2</th>\n",
              "      <td>1</td>\n",
              "      <td>1</td>\n",
              "      <td>Nantucket Nectar</td>\n",
              "      <td>[Apple]</td>\n",
              "      <td>$3.39</td>\n",
              "    </tr>\n",
              "    <tr>\n",
              "      <th>3</th>\n",
              "      <td>1</td>\n",
              "      <td>1</td>\n",
              "      <td>Chips and Tomatillo-Green Chili Salsa</td>\n",
              "      <td>NaN</td>\n",
              "      <td>$2.39</td>\n",
              "    </tr>\n",
              "    <tr>\n",
              "      <th>4</th>\n",
              "      <td>2</td>\n",
              "      <td>2</td>\n",
              "      <td>Chicken Bowl</td>\n",
              "      <td>[Tomatillo-Red Chili Salsa (Hot), [Black Beans...</td>\n",
              "      <td>$16.98</td>\n",
              "    </tr>\n",
              "  </tbody>\n",
              "</table>\n",
              "</div>\n",
              "      <button class=\"colab-df-convert\" onclick=\"convertToInteractive('df-99734733-5d11-4ea4-afe2-83d6580c68c5')\"\n",
              "              title=\"Convert this dataframe to an interactive table.\"\n",
              "              style=\"display:none;\">\n",
              "        \n",
              "  <svg xmlns=\"http://www.w3.org/2000/svg\" height=\"24px\"viewBox=\"0 0 24 24\"\n",
              "       width=\"24px\">\n",
              "    <path d=\"M0 0h24v24H0V0z\" fill=\"none\"/>\n",
              "    <path d=\"M18.56 5.44l.94 2.06.94-2.06 2.06-.94-2.06-.94-.94-2.06-.94 2.06-2.06.94zm-11 1L8.5 8.5l.94-2.06 2.06-.94-2.06-.94L8.5 2.5l-.94 2.06-2.06.94zm10 10l.94 2.06.94-2.06 2.06-.94-2.06-.94-.94-2.06-.94 2.06-2.06.94z\"/><path d=\"M17.41 7.96l-1.37-1.37c-.4-.4-.92-.59-1.43-.59-.52 0-1.04.2-1.43.59L10.3 9.45l-7.72 7.72c-.78.78-.78 2.05 0 2.83L4 21.41c.39.39.9.59 1.41.59.51 0 1.02-.2 1.41-.59l7.78-7.78 2.81-2.81c.8-.78.8-2.07 0-2.86zM5.41 20L4 18.59l7.72-7.72 1.47 1.35L5.41 20z\"/>\n",
              "  </svg>\n",
              "      </button>\n",
              "      \n",
              "  <style>\n",
              "    .colab-df-container {\n",
              "      display:flex;\n",
              "      flex-wrap:wrap;\n",
              "      gap: 12px;\n",
              "    }\n",
              "\n",
              "    .colab-df-convert {\n",
              "      background-color: #E8F0FE;\n",
              "      border: none;\n",
              "      border-radius: 50%;\n",
              "      cursor: pointer;\n",
              "      display: none;\n",
              "      fill: #1967D2;\n",
              "      height: 32px;\n",
              "      padding: 0 0 0 0;\n",
              "      width: 32px;\n",
              "    }\n",
              "\n",
              "    .colab-df-convert:hover {\n",
              "      background-color: #E2EBFA;\n",
              "      box-shadow: 0px 1px 2px rgba(60, 64, 67, 0.3), 0px 1px 3px 1px rgba(60, 64, 67, 0.15);\n",
              "      fill: #174EA6;\n",
              "    }\n",
              "\n",
              "    [theme=dark] .colab-df-convert {\n",
              "      background-color: #3B4455;\n",
              "      fill: #D2E3FC;\n",
              "    }\n",
              "\n",
              "    [theme=dark] .colab-df-convert:hover {\n",
              "      background-color: #434B5C;\n",
              "      box-shadow: 0px 1px 3px 1px rgba(0, 0, 0, 0.15);\n",
              "      filter: drop-shadow(0px 1px 2px rgba(0, 0, 0, 0.3));\n",
              "      fill: #FFFFFF;\n",
              "    }\n",
              "  </style>\n",
              "\n",
              "      <script>\n",
              "        const buttonEl =\n",
              "          document.querySelector('#df-99734733-5d11-4ea4-afe2-83d6580c68c5 button.colab-df-convert');\n",
              "        buttonEl.style.display =\n",
              "          google.colab.kernel.accessAllowed ? 'block' : 'none';\n",
              "\n",
              "        async function convertToInteractive(key) {\n",
              "          const element = document.querySelector('#df-99734733-5d11-4ea4-afe2-83d6580c68c5');\n",
              "          const dataTable =\n",
              "            await google.colab.kernel.invokeFunction('convertToInteractive',\n",
              "                                                     [key], {});\n",
              "          if (!dataTable) return;\n",
              "\n",
              "          const docLinkHtml = 'Like what you see? Visit the ' +\n",
              "            '<a target=\"_blank\" href=https://colab.research.google.com/notebooks/data_table.ipynb>data table notebook</a>'\n",
              "            + ' to learn more about interactive tables.';\n",
              "          element.innerHTML = '';\n",
              "          dataTable['output_type'] = 'display_data';\n",
              "          await google.colab.output.renderOutput(dataTable, element);\n",
              "          const docLink = document.createElement('div');\n",
              "          docLink.innerHTML = docLinkHtml;\n",
              "          element.appendChild(docLink);\n",
              "        }\n",
              "      </script>\n",
              "    </div>\n",
              "  </div>\n",
              "  "
            ],
            "text/plain": [
              "   order_id  ...  item_price\n",
              "0         1  ...      $2.39 \n",
              "1         1  ...      $3.39 \n",
              "2         1  ...      $3.39 \n",
              "3         1  ...      $2.39 \n",
              "4         2  ...     $16.98 \n",
              "\n",
              "[5 rows x 5 columns]"
            ]
          },
          "metadata": {},
          "execution_count": 28
        }
      ]
    },
    {
      "cell_type": "markdown",
      "source": [
        "## Brainstorming\n",
        "\n",
        "**Straightforward solution**:\n",
        "\n",
        "ASSUME that each order for the same item, has the same value in the `item_price` column.\n",
        "\n",
        "*Steps:*\n",
        "1. Make a histogram of `menu_items` --> number of orders\n",
        "2. Make another histogram of `menu_items` --> `total_revenue_per_item` (this comes from # orders * `item_price`\n",
        "3. Plot it in a bar plot\n",
        "\n",
        "\n",
        "**Condensed solution** - using categories:\n",
        "Based on [Chipotle's website](https://www.chipotle.com/), I'm going to assume we can classify each of the menu items into one of the following distinct categories - I've listed them below, along with the keywords I'll use to filter the item into that category based on its name:\n",
        "\n",
        "- Bowls (\"bowl\")\n",
        "- Burritos (\"burrito\")\n",
        "- Salads (\"salad\")\n",
        "- Tacos (\"taco\")\n",
        "- Drinks (\"drink\" \"bottled\")\n",
        "- Sides (\"chips\")\n",
        "- Miscell (everything else)\n",
        "\n",
        "Please forgive any inaccuracies here - I am not at all familiar with Mexican cuisine!\n",
        "\n",
        "*Steps:*\n",
        "1. Add a new column `category` to the `df`, using the categories listed above.\n",
        "2. Now, we just map each item to its `category` (by adding a new column to `df`)\n",
        "3. To get a sum of total revenue per category, we can acculmulate the sum of each individual order that falls in it...\n",
        "4. And then make a bar plot like before!"
      ],
      "metadata": {
        "id": "uaZOnU2ci8Ac"
      }
    },
    {
      "cell_type": "code",
      "source": [
        "def classify_item(item_name: str) -> str:\n",
        "  \"\"\"Determines what category a single menu item belongs in.\n",
        "  \n",
        "    Uses the name of the item plus keywords associated with each category\n",
        "    to distinguish.\n",
        "\n",
        "    Arg:\n",
        "      item_name(str)\n",
        "\n",
        "    Returns:\n",
        "      str: one of {\"Bowls\", \"Burritos\", \"Salads\", \"Tacos\", \"Drinks\", \"Miscell\"}\n",
        "  \"\"\"\n",
        "  # map name words --> category word\n",
        "  category_keywords = {\n",
        "      \"Bowls\": {\"bowl\"},\n",
        "      \"Burritos\": {\"burrito\"},\n",
        "      \"Salads\": {\"salad\"},\n",
        "      \"Tacos\": {\"taco\"},\n",
        "      \"Sides\": {\"chips\"},\n",
        "      \"Drinks\": {\"drink\", \"bottled\"}\n",
        "  }\n",
        "  # preprocess the name\n",
        "  item_name = set(item_name.lower().split())\n",
        "  # categorize\n",
        "  for category, keywords in category_keywords.items():\n",
        "    # if it founds - category found!\n",
        "    if len(item_name.intersection(keywords)) > 0:\n",
        "      return category\n",
        "  # if none fit --> \"Miscell\"\n",
        "  return \"Miscell\""
      ],
      "metadata": {
        "id": "t6pcm9hsiE4a"
      },
      "execution_count": null,
      "outputs": []
    },
    {
      "cell_type": "code",
      "source": [
        "vectorized_categorizer = np.vectorize(classify_item)\n",
        "categories = vectorized_categorizer(np.array(df[\"item_name\"]))"
      ],
      "metadata": {
        "id": "HaslFrkhmyqh"
      },
      "execution_count": null,
      "outputs": []
    },
    {
      "cell_type": "code",
      "source": [
        "categories"
      ],
      "metadata": {
        "colab": {
          "base_uri": "https://localhost:8080/"
        },
        "id": "eyn9uXgGoGRx",
        "outputId": "4bb36270-a8e0-4f0c-ae41-43a0188f405d"
      },
      "execution_count": null,
      "outputs": [
        {
          "output_type": "execute_result",
          "data": {
            "text/plain": [
              "array(['Sides', 'Miscell', 'Miscell', ..., 'Bowls', 'Bowls', 'Bowls'],\n",
              "      dtype='<U8')"
            ]
          },
          "metadata": {},
          "execution_count": 32
        }
      ]
    },
    {
      "cell_type": "markdown",
      "source": [
        "### Modify Dataframe"
      ],
      "metadata": {
        "id": "F4V3UoiuqnKG"
      }
    },
    {
      "cell_type": "code",
      "source": [
        "# adding column\n",
        "df[\"item_category\"] = categories"
      ],
      "metadata": {
        "id": "SbsGyVzopymw"
      },
      "execution_count": null,
      "outputs": []
    },
    {
      "cell_type": "code",
      "source": [
        "df.item_price.isnull().sum()  # verify there's no Nan!"
      ],
      "metadata": {
        "colab": {
          "base_uri": "https://localhost:8080/"
        },
        "id": "MmkQGoCjr4Jy",
        "outputId": "28185b3d-76a6-485a-9b74-ca6765b033fd"
      },
      "execution_count": null,
      "outputs": [
        {
          "output_type": "execute_result",
          "data": {
            "text/plain": [
              "0"
            ]
          },
          "metadata": {},
          "execution_count": 37
        }
      ]
    },
    {
      "cell_type": "code",
      "source": [
        "# encode prices as float values\n",
        "f = lambda price: ''.join((list(price)[1:-1]))\n",
        "cut_off_dollar_sign = np.vectorize(f)\n",
        "prices_no_dollar = cut_off_dollar_sign(np.array(df[\"item_price\"]))"
      ],
      "metadata": {
        "id": "zwFoaXJ9skCf"
      },
      "execution_count": null,
      "outputs": []
    },
    {
      "cell_type": "code",
      "source": [
        "df[\"price_as_float\"] = prices_no_dollar.astype(float)"
      ],
      "metadata": {
        "id": "PSM7QWPfs8Bj"
      },
      "execution_count": null,
      "outputs": []
    },
    {
      "cell_type": "markdown",
      "source": [
        "## Solution"
      ],
      "metadata": {
        "id": "7tnkNh6rqwHV"
      }
    },
    {
      "cell_type": "code",
      "source": [
        "# compute total revenues per category\n",
        "category_sums = df.groupby(\"item_category\")[\"price_as_float\"].sum()\n",
        "\n",
        "# Plotting\n",
        "plt.bar(category_sums.index, category_sums.values)\n",
        "plt.title(\"Chipotle Total Revenue per Item Category\")\n",
        "plt.xlabel(\"Category\")\n",
        "plt.ylabel(\"Revenue (USD)\")\n",
        "plt.show()"
      ],
      "metadata": {
        "colab": {
          "base_uri": "https://localhost:8080/",
          "height": 295
        },
        "id": "c0OB1QroqtXB",
        "outputId": "bb9c7998-7deb-47aa-f5eb-943219d80389"
      },
      "execution_count": null,
      "outputs": [
        {
          "output_type": "display_data",
          "data": {
            "image/png": "[encoded data removed]",
            "text/plain": [
              "<Figure size 432x288 with 1 Axes>"
            ]
          },
          "metadata": {}
        }
      ]
    },
    {
      "cell_type": "markdown",
      "source": [
        "# Question 6\n",
        "\n",
        "## Door height based on average population height\n",
        "\n",
        "The height of men (in inches) in the US is approximately normally distributed with a mean of 68 inches and standard deviation of 3 inches. Suppose a door frame manufacturer wants to build door frames so that only 1% of all men will have to duck while walking through the door. **How high does the door frame need to be to accomodate for 99% of men?**"
      ],
      "metadata": {
        "id": "pRx5XuUGguoP"
      }
    },
    {
      "cell_type": "code",
      "source": [
        "import numpy as np\n",
        "from scipy import stats\n",
        "import matplotlib.pyplot as plt\n",
        "import seaborn as sns\n",
        "\n",
        "# plot pretty figures\n",
        "%matplotlib inline\n",
        "sns.set_style('darkgrid')\n",
        "\n",
        "np.random.seed(42)"
      ],
      "metadata": {
        "id": "__uOznUDg-20"
      },
      "execution_count": 3,
      "outputs": []
    },
    {
      "cell_type": "markdown",
      "source": [
        "### Compute the PDF"
      ],
      "metadata": {
        "id": "dZV8fFpIg7vB"
      }
    },
    {
      "cell_type": "code",
      "source": [
        "# A: generate a sample dist\n",
        "mu, sigma = 68, 3.0  # mean and standard devivation\n",
        "num_men = 2_000  # guessing how many men were surveyed\n",
        "samples = np.random.normal(mu, sigma, num_men)"
      ],
      "metadata": {
        "id": "swG5194gg2wf"
      },
      "execution_count": 12,
      "outputs": []
    },
    {
      "cell_type": "code",
      "source": [
        "# B: the equation for the PDF is borrowed from the NumPy docs: https://numpy.org/doc/stable/reference/random/generated/numpy.random.normal.html\n",
        "bin_edges, bins_probabilites, ignored = plt.hist(samples, 14, density=True)\n",
        "plt.plot(bins_probabilites, 1/(sigma * np.sqrt(2 * np.pi)) *\n",
        "               np.exp(-(bins_probabilites - mu)**2 / (2 * sigma**2)),\n",
        "         linewidth=2, color='r')\n",
        "plt.title(\"The PDF of Heights of Men in the US\")\n",
        "plt.ylabel(\"Probability\")\n",
        "plt.xlabel(\"Inches\")\n",
        "plt.show()"
      ],
      "metadata": {
        "colab": {
          "base_uri": "https://localhost:8080/",
          "height": 295
        },
        "id": "ZIXO_yZphJPI",
        "outputId": "79634965-d441-42f1-fb3c-ebc75494f60b"
      },
      "execution_count": 13,
      "outputs": [
        {
          "output_type": "display_data",
          "data": {
            "image/png": "[encoded data removed]",
            "text/plain": [
              "<Figure size 432x288 with 1 Axes>"
            ]
          },
          "metadata": {}
        }
      ]
    },
    {
      "cell_type": "markdown",
      "source": [
        "### Use the Survival Function"
      ],
      "metadata": {
        "id": "zvZiWKWchhO8"
      }
    },
    {
      "cell_type": "code",
      "source": [
        "bin_edges, bins_probabilites, ignored = plt.hist(samples, 14, density=True)\n",
        "sorted_data = np.sort(samples)\n",
        "sf_values = stats.norm.sf(sorted_data, mu, sigma)\n",
        "plt.plot(sorted_data, sf_values, color='g')\n",
        "plt.title(\"The SF of Heights of Men in the US\")\n",
        "plt.ylabel(\"Probability\")\n",
        "plt.xlabel(\"Inches\")\n",
        "plt.show()"
      ],
      "metadata": {
        "colab": {
          "base_uri": "https://localhost:8080/",
          "height": 295
        },
        "id": "xQvf-dNkhcvn",
        "outputId": "e09c3c57-a05b-4a55-a36d-e2b52ef772d3"
      },
      "execution_count": 33,
      "outputs": [
        {
          "output_type": "display_data",
          "data": {
            "image/png": "[encoded data removed]",
            "text/plain": [
              "<Figure size 432x288 with 1 Axes>"
            ]
          },
          "metadata": {}
        }
      ]
    },
    {
      "cell_type": "code",
      "source": [
        "index_of_answer = np.where(\n",
        "      np.logical_and(sf_values <= 0.01, sf_values > 0.009)\n",
        "    )[-1] # take the last, b/c it'll be closest to 1% b/c the values decrease "
      ],
      "metadata": {
        "id": "ZDyLD5Bui4DX"
      },
      "execution_count": 53,
      "outputs": []
    },
    {
      "cell_type": "code",
      "source": [
        "answer_inches = round(sorted_data[index_of_answer[-1]], 4)\n",
        "answer_percentile = sf_values[index_of_answer[-1]]\n",
        "percent_val = round(100 - (answer_percentile * 100), 3)"
      ],
      "metadata": {
        "id": "6KjVmD2Smi0K"
      },
      "execution_count": 74,
      "outputs": []
    },
    {
      "cell_type": "code",
      "source": [
        "print(f\"The door manufacturer can accomodate approx. {percent_val}% of men by \" \\\n",
        "      f\"manufacturing the door to be: {answer_inches} in. tall.\")"
      ],
      "metadata": {
        "colab": {
          "base_uri": "https://localhost:8080/"
        },
        "id": "w1F7I3qsldWM",
        "outputId": "2b3c7162-37c5-452a-e6be-eeb4e1e87e21"
      },
      "execution_count": 75,
      "outputs": [
        {
          "output_type": "stream",
          "name": "stdout",
          "text": [
            "The door manufacturer can accomodate approx. 99.096% of men by manufacturing the door to be: 75.0916 in. tall.\n"
          ]
        }
      ]
    }
  ]
}